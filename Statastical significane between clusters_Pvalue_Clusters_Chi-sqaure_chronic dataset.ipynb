{
 "cells": [
  {
   "cell_type": "code",
   "execution_count": 1,
   "metadata": {},
   "outputs": [],
   "source": [
    "import warnings \n",
    "warnings.filterwarnings(\"ignore\", category=FutureWarning)\n",
    "warnings.simplefilter('ignore', DeprecationWarning)\n",
    "#warnings.simplefilter('ignore', ConvergenceWarning)\n",
    "\n",
    "import pandas as pd\n",
    "from pandas import read_csv\n",
    "import matplotlib.pyplot as plt\n",
    "import numpy as np\n",
    "import numpy as np\n",
    "import pandas as pd\n",
    "import scipy.stats as stats"
   ]
  },
  {
   "cell_type": "markdown",
   "metadata": {},
   "source": [
    "# Cluster 1"
   ]
  },
  {
   "cell_type": "code",
   "execution_count": 2,
   "metadata": {},
   "outputs": [
    {
     "name": "stdout",
     "output_type": "stream",
     "text": [
      "(4842, 8)\n"
     ]
    },
    {
     "data": {
      "text/html": [
       "<div>\n",
       "<style scoped>\n",
       "    .dataframe tbody tr th:only-of-type {\n",
       "        vertical-align: middle;\n",
       "    }\n",
       "\n",
       "    .dataframe tbody tr th {\n",
       "        vertical-align: top;\n",
       "    }\n",
       "\n",
       "    .dataframe thead th {\n",
       "        text-align: right;\n",
       "    }\n",
       "</style>\n",
       "<table border=\"1\" class=\"dataframe\">\n",
       "  <thead>\n",
       "    <tr style=\"text-align: right;\">\n",
       "      <th></th>\n",
       "      <th>sex</th>\n",
       "      <th>bmi</th>\n",
       "      <th>diastolic</th>\n",
       "      <th>sbp</th>\n",
       "      <th>hyper</th>\n",
       "      <th>diabet</th>\n",
       "      <th>fatty</th>\n",
       "      <th>cls_train</th>\n",
       "    </tr>\n",
       "  </thead>\n",
       "  <tbody>\n",
       "    <tr>\n",
       "      <th>34985</th>\n",
       "      <td>0</td>\n",
       "      <td>0.008500</td>\n",
       "      <td>0.056657</td>\n",
       "      <td>0.006088</td>\n",
       "      <td>0</td>\n",
       "      <td>NaN</td>\n",
       "      <td>NaN</td>\n",
       "      <td>1</td>\n",
       "    </tr>\n",
       "    <tr>\n",
       "      <th>18959</th>\n",
       "      <td>0</td>\n",
       "      <td>0.008976</td>\n",
       "      <td>0.058357</td>\n",
       "      <td>0.006796</td>\n",
       "      <td>0</td>\n",
       "      <td>NaN</td>\n",
       "      <td>NaN</td>\n",
       "      <td>1</td>\n",
       "    </tr>\n",
       "    <tr>\n",
       "      <th>9017</th>\n",
       "      <td>0</td>\n",
       "      <td>0.008109</td>\n",
       "      <td>0.060623</td>\n",
       "      <td>0.009344</td>\n",
       "      <td>0</td>\n",
       "      <td>NaN</td>\n",
       "      <td>NaN</td>\n",
       "      <td>1</td>\n",
       "    </tr>\n",
       "  </tbody>\n",
       "</table>\n",
       "</div>"
      ],
      "text/plain": [
       "       sex       bmi  diastolic       sbp  hyper  diabet  fatty  cls_train\n",
       "34985    0  0.008500   0.056657  0.006088      0     NaN    NaN          1\n",
       "18959    0  0.008976   0.058357  0.006796      0     NaN    NaN          1\n",
       "9017     0  0.008109   0.060623  0.009344      0     NaN    NaN          1"
      ]
     },
     "execution_count": 2,
     "metadata": {},
     "output_type": "execute_result"
    }
   ],
   "source": [
    "# read all the data  for morto\n",
    "data_zero=\"Cluster_1.csv\"\n",
    "df0=read_csv(data_zero,index_col=0)\n",
    "print(df0.shape)\n",
    "df0.head(3)"
   ]
  },
  {
   "cell_type": "code",
   "execution_count": 3,
   "metadata": {
    "scrolled": true
   },
   "outputs": [
    {
     "name": "stdout",
     "output_type": "stream",
     "text": [
      "(4842, 3)\n"
     ]
    },
    {
     "data": {
      "text/html": [
       "<div>\n",
       "<style scoped>\n",
       "    .dataframe tbody tr th:only-of-type {\n",
       "        vertical-align: middle;\n",
       "    }\n",
       "\n",
       "    .dataframe tbody tr th {\n",
       "        vertical-align: top;\n",
       "    }\n",
       "\n",
       "    .dataframe thead th {\n",
       "        text-align: right;\n",
       "    }\n",
       "</style>\n",
       "<table border=\"1\" class=\"dataframe\">\n",
       "  <thead>\n",
       "    <tr style=\"text-align: right;\">\n",
       "      <th></th>\n",
       "      <th>hyper</th>\n",
       "      <th>diabet</th>\n",
       "      <th>fatty</th>\n",
       "    </tr>\n",
       "  </thead>\n",
       "  <tbody>\n",
       "    <tr>\n",
       "      <th>34985</th>\n",
       "      <td>0</td>\n",
       "      <td>NaN</td>\n",
       "      <td>NaN</td>\n",
       "    </tr>\n",
       "  </tbody>\n",
       "</table>\n",
       "</div>"
      ],
      "text/plain": [
       "       hyper  diabet  fatty\n",
       "34985      0     NaN    NaN"
      ]
     },
     "execution_count": 3,
     "metadata": {},
     "output_type": "execute_result"
    }
   ],
   "source": [
    "df00 = df0[['hyper','diabet','fatty']]\n",
    "print(df00.shape)\n",
    "df00.head(1)"
   ]
  },
  {
   "cell_type": "markdown",
   "metadata": {},
   "source": [
    "# Cluster 2"
   ]
  },
  {
   "cell_type": "code",
   "execution_count": 4,
   "metadata": {
    "scrolled": true
   },
   "outputs": [
    {
     "name": "stdout",
     "output_type": "stream",
     "text": [
      "(7103, 8)\n"
     ]
    },
    {
     "data": {
      "text/html": [
       "<div>\n",
       "<style scoped>\n",
       "    .dataframe tbody tr th:only-of-type {\n",
       "        vertical-align: middle;\n",
       "    }\n",
       "\n",
       "    .dataframe tbody tr th {\n",
       "        vertical-align: top;\n",
       "    }\n",
       "\n",
       "    .dataframe thead th {\n",
       "        text-align: right;\n",
       "    }\n",
       "</style>\n",
       "<table border=\"1\" class=\"dataframe\">\n",
       "  <thead>\n",
       "    <tr style=\"text-align: right;\">\n",
       "      <th></th>\n",
       "      <th>sex</th>\n",
       "      <th>bmi</th>\n",
       "      <th>diastolic</th>\n",
       "      <th>sbp</th>\n",
       "      <th>hyper</th>\n",
       "      <th>diabet</th>\n",
       "      <th>fatty</th>\n",
       "      <th>cls_train</th>\n",
       "    </tr>\n",
       "  </thead>\n",
       "  <tbody>\n",
       "    <tr>\n",
       "      <th>48786</th>\n",
       "      <td>0</td>\n",
       "      <td>0.012371</td>\n",
       "      <td>0.098017</td>\n",
       "      <td>0.011327</td>\n",
       "      <td>1</td>\n",
       "      <td>0.0</td>\n",
       "      <td>1.0</td>\n",
       "      <td>2</td>\n",
       "    </tr>\n",
       "  </tbody>\n",
       "</table>\n",
       "</div>"
      ],
      "text/plain": [
       "       sex       bmi  diastolic       sbp  hyper  diabet  fatty  cls_train\n",
       "48786    0  0.012371   0.098017  0.011327      1     0.0    1.0          2"
      ]
     },
     "execution_count": 4,
     "metadata": {},
     "output_type": "execute_result"
    }
   ],
   "source": [
    "# read all the data  for morto\n",
    "data_one=\"Cluster_2.csv\"\n",
    "df1=read_csv(data_one,index_col=0)\n",
    "print(df1.shape)\n",
    "df1.head(1)"
   ]
  },
  {
   "cell_type": "code",
   "execution_count": 5,
   "metadata": {
    "scrolled": true
   },
   "outputs": [
    {
     "name": "stdout",
     "output_type": "stream",
     "text": [
      "(7103, 3)\n"
     ]
    },
    {
     "data": {
      "text/html": [
       "<div>\n",
       "<style scoped>\n",
       "    .dataframe tbody tr th:only-of-type {\n",
       "        vertical-align: middle;\n",
       "    }\n",
       "\n",
       "    .dataframe tbody tr th {\n",
       "        vertical-align: top;\n",
       "    }\n",
       "\n",
       "    .dataframe thead th {\n",
       "        text-align: right;\n",
       "    }\n",
       "</style>\n",
       "<table border=\"1\" class=\"dataframe\">\n",
       "  <thead>\n",
       "    <tr style=\"text-align: right;\">\n",
       "      <th></th>\n",
       "      <th>hyper</th>\n",
       "      <th>diabet</th>\n",
       "      <th>fatty</th>\n",
       "    </tr>\n",
       "  </thead>\n",
       "  <tbody>\n",
       "    <tr>\n",
       "      <th>48786</th>\n",
       "      <td>1</td>\n",
       "      <td>0.0</td>\n",
       "      <td>1.0</td>\n",
       "    </tr>\n",
       "    <tr>\n",
       "      <th>41912</th>\n",
       "      <td>1</td>\n",
       "      <td>0.0</td>\n",
       "      <td>1.0</td>\n",
       "    </tr>\n",
       "  </tbody>\n",
       "</table>\n",
       "</div>"
      ],
      "text/plain": [
       "       hyper  diabet  fatty\n",
       "48786      1     0.0    1.0\n",
       "41912      1     0.0    1.0"
      ]
     },
     "execution_count": 5,
     "metadata": {},
     "output_type": "execute_result"
    }
   ],
   "source": [
    "df11 = df1[['hyper','diabet','fatty']]\n",
    "print(df11.shape)\n",
    "df11.head(2)"
   ]
  },
  {
   "cell_type": "markdown",
   "metadata": {},
   "source": [
    "# Cluster 3"
   ]
  },
  {
   "cell_type": "code",
   "execution_count": 6,
   "metadata": {},
   "outputs": [
    {
     "name": "stdout",
     "output_type": "stream",
     "text": [
      "(7943, 8)\n"
     ]
    },
    {
     "data": {
      "text/html": [
       "<div>\n",
       "<style scoped>\n",
       "    .dataframe tbody tr th:only-of-type {\n",
       "        vertical-align: middle;\n",
       "    }\n",
       "\n",
       "    .dataframe tbody tr th {\n",
       "        vertical-align: top;\n",
       "    }\n",
       "\n",
       "    .dataframe thead th {\n",
       "        text-align: right;\n",
       "    }\n",
       "</style>\n",
       "<table border=\"1\" class=\"dataframe\">\n",
       "  <thead>\n",
       "    <tr style=\"text-align: right;\">\n",
       "      <th></th>\n",
       "      <th>sex</th>\n",
       "      <th>bmi</th>\n",
       "      <th>diastolic</th>\n",
       "      <th>sbp</th>\n",
       "      <th>hyper</th>\n",
       "      <th>diabet</th>\n",
       "      <th>fatty</th>\n",
       "      <th>cls_train</th>\n",
       "    </tr>\n",
       "  </thead>\n",
       "  <tbody>\n",
       "    <tr>\n",
       "      <th>55703</th>\n",
       "      <td>1</td>\n",
       "      <td>0.006842</td>\n",
       "      <td>0.05949</td>\n",
       "      <td>0.009628</td>\n",
       "      <td>0</td>\n",
       "      <td>NaN</td>\n",
       "      <td>NaN</td>\n",
       "      <td>3</td>\n",
       "    </tr>\n",
       "  </tbody>\n",
       "</table>\n",
       "</div>"
      ],
      "text/plain": [
       "       sex       bmi  diastolic       sbp  hyper  diabet  fatty  cls_train\n",
       "55703    1  0.006842    0.05949  0.009628      0     NaN    NaN          3"
      ]
     },
     "execution_count": 6,
     "metadata": {},
     "output_type": "execute_result"
    }
   ],
   "source": [
    "# read all the data  for morto\n",
    "data_two=\"Cluster_3.csv\"\n",
    "df2=read_csv(data_two,index_col=0)\n",
    "print(df2.shape)\n",
    "df2.head(1)"
   ]
  },
  {
   "cell_type": "code",
   "execution_count": 7,
   "metadata": {},
   "outputs": [
    {
     "name": "stdout",
     "output_type": "stream",
     "text": [
      "(7943, 3)\n"
     ]
    },
    {
     "data": {
      "text/html": [
       "<div>\n",
       "<style scoped>\n",
       "    .dataframe tbody tr th:only-of-type {\n",
       "        vertical-align: middle;\n",
       "    }\n",
       "\n",
       "    .dataframe tbody tr th {\n",
       "        vertical-align: top;\n",
       "    }\n",
       "\n",
       "    .dataframe thead th {\n",
       "        text-align: right;\n",
       "    }\n",
       "</style>\n",
       "<table border=\"1\" class=\"dataframe\">\n",
       "  <thead>\n",
       "    <tr style=\"text-align: right;\">\n",
       "      <th></th>\n",
       "      <th>hyper</th>\n",
       "      <th>diabet</th>\n",
       "      <th>fatty</th>\n",
       "    </tr>\n",
       "  </thead>\n",
       "  <tbody>\n",
       "    <tr>\n",
       "      <th>55703</th>\n",
       "      <td>0</td>\n",
       "      <td>NaN</td>\n",
       "      <td>NaN</td>\n",
       "    </tr>\n",
       "    <tr>\n",
       "      <th>25330</th>\n",
       "      <td>0</td>\n",
       "      <td>NaN</td>\n",
       "      <td>NaN</td>\n",
       "    </tr>\n",
       "  </tbody>\n",
       "</table>\n",
       "</div>"
      ],
      "text/plain": [
       "       hyper  diabet  fatty\n",
       "55703      0     NaN    NaN\n",
       "25330      0     NaN    NaN"
      ]
     },
     "execution_count": 7,
     "metadata": {},
     "output_type": "execute_result"
    }
   ],
   "source": [
    "df22 = df2[['hyper','diabet','fatty']]\n",
    "print(df22.shape)\n",
    "df22.head(2)"
   ]
  },
  {
   "cell_type": "markdown",
   "metadata": {},
   "source": [
    "# Chi-Sqaure Test between clusters"
   ]
  },
  {
   "cell_type": "markdown",
   "metadata": {},
   "source": [
    "#### testing Observed values for  three clusters with variable hypertension"
   ]
  },
  {
   "cell_type": "code",
   "execution_count": 8,
   "metadata": {},
   "outputs": [
    {
     "data": {
      "text/html": [
       "<div>\n",
       "<style scoped>\n",
       "    .dataframe tbody tr th:only-of-type {\n",
       "        vertical-align: middle;\n",
       "    }\n",
       "\n",
       "    .dataframe tbody tr th {\n",
       "        vertical-align: top;\n",
       "    }\n",
       "\n",
       "    .dataframe thead th {\n",
       "        text-align: right;\n",
       "    }\n",
       "</style>\n",
       "<table border=\"1\" class=\"dataframe\">\n",
       "  <thead>\n",
       "    <tr style=\"text-align: right;\">\n",
       "      <th>hyper</th>\n",
       "      <th>0</th>\n",
       "      <th>1</th>\n",
       "    </tr>\n",
       "    <tr>\n",
       "      <th>col_0</th>\n",
       "      <th></th>\n",
       "      <th></th>\n",
       "    </tr>\n",
       "  </thead>\n",
       "  <tbody>\n",
       "    <tr>\n",
       "      <th>count</th>\n",
       "      <td>2972</td>\n",
       "      <td>1870</td>\n",
       "    </tr>\n",
       "  </tbody>\n",
       "</table>\n",
       "</div>"
      ],
      "text/plain": [
       "hyper     0     1\n",
       "col_0            \n",
       "count  2972  1870"
      ]
     },
     "execution_count": 8,
     "metadata": {},
     "output_type": "execute_result"
    }
   ],
   "source": [
    "df0_table = pd.crosstab(index=df00['hyper'], columns=\"count\")\n",
    "df0_table.T # tain table"
   ]
  },
  {
   "cell_type": "code",
   "execution_count": 9,
   "metadata": {},
   "outputs": [
    {
     "data": {
      "text/html": [
       "<div>\n",
       "<style scoped>\n",
       "    .dataframe tbody tr th:only-of-type {\n",
       "        vertical-align: middle;\n",
       "    }\n",
       "\n",
       "    .dataframe tbody tr th {\n",
       "        vertical-align: top;\n",
       "    }\n",
       "\n",
       "    .dataframe thead th {\n",
       "        text-align: right;\n",
       "    }\n",
       "</style>\n",
       "<table border=\"1\" class=\"dataframe\">\n",
       "  <thead>\n",
       "    <tr style=\"text-align: right;\">\n",
       "      <th>hyper</th>\n",
       "      <th>0</th>\n",
       "      <th>1</th>\n",
       "    </tr>\n",
       "    <tr>\n",
       "      <th>col_0</th>\n",
       "      <th></th>\n",
       "      <th></th>\n",
       "    </tr>\n",
       "  </thead>\n",
       "  <tbody>\n",
       "    <tr>\n",
       "      <th>count</th>\n",
       "      <td>3685</td>\n",
       "      <td>3418</td>\n",
       "    </tr>\n",
       "  </tbody>\n",
       "</table>\n",
       "</div>"
      ],
      "text/plain": [
       "hyper     0     1\n",
       "col_0            \n",
       "count  3685  3418"
      ]
     },
     "execution_count": 9,
     "metadata": {},
     "output_type": "execute_result"
    }
   ],
   "source": [
    "df1_table = pd.crosstab(index=df11['hyper'], columns=\"count\")\n",
    "df1_table.T #Test table"
   ]
  },
  {
   "cell_type": "code",
   "execution_count": 10,
   "metadata": {},
   "outputs": [
    {
     "data": {
      "text/html": [
       "<div>\n",
       "<style scoped>\n",
       "    .dataframe tbody tr th:only-of-type {\n",
       "        vertical-align: middle;\n",
       "    }\n",
       "\n",
       "    .dataframe tbody tr th {\n",
       "        vertical-align: top;\n",
       "    }\n",
       "\n",
       "    .dataframe thead th {\n",
       "        text-align: right;\n",
       "    }\n",
       "</style>\n",
       "<table border=\"1\" class=\"dataframe\">\n",
       "  <thead>\n",
       "    <tr style=\"text-align: right;\">\n",
       "      <th>hyper</th>\n",
       "      <th>0</th>\n",
       "      <th>1</th>\n",
       "    </tr>\n",
       "    <tr>\n",
       "      <th>col_0</th>\n",
       "      <th></th>\n",
       "      <th></th>\n",
       "    </tr>\n",
       "  </thead>\n",
       "  <tbody>\n",
       "    <tr>\n",
       "      <th>count</th>\n",
       "      <td>2390</td>\n",
       "      <td>5553</td>\n",
       "    </tr>\n",
       "  </tbody>\n",
       "</table>\n",
       "</div>"
      ],
      "text/plain": [
       "hyper     0     1\n",
       "col_0            \n",
       "count  2390  5553"
      ]
     },
     "execution_count": 10,
     "metadata": {},
     "output_type": "execute_result"
    }
   ],
   "source": [
    "df2_table = pd.crosstab(index=df22['hyper'], columns=\"count\")\n",
    "df2_table.T #Test table"
   ]
  },
  {
   "cell_type": "markdown",
   "metadata": {},
   "source": [
    "Join tables"
   ]
  },
  {
   "cell_type": "code",
   "execution_count": 11,
   "metadata": {},
   "outputs": [
    {
     "data": {
      "text/html": [
       "<div>\n",
       "<style scoped>\n",
       "    .dataframe tbody tr th:only-of-type {\n",
       "        vertical-align: middle;\n",
       "    }\n",
       "\n",
       "    .dataframe tbody tr th {\n",
       "        vertical-align: top;\n",
       "    }\n",
       "\n",
       "    .dataframe thead th {\n",
       "        text-align: right;\n",
       "    }\n",
       "</style>\n",
       "<table border=\"1\" class=\"dataframe\">\n",
       "  <thead>\n",
       "    <tr style=\"text-align: right;\">\n",
       "      <th></th>\n",
       "      <th>c0</th>\n",
       "      <th>c1</th>\n",
       "      <th>c2</th>\n",
       "    </tr>\n",
       "    <tr>\n",
       "      <th>hyper</th>\n",
       "      <th></th>\n",
       "      <th></th>\n",
       "      <th></th>\n",
       "    </tr>\n",
       "  </thead>\n",
       "  <tbody>\n",
       "    <tr>\n",
       "      <th>0</th>\n",
       "      <td>2972</td>\n",
       "      <td>3685</td>\n",
       "      <td>2390</td>\n",
       "    </tr>\n",
       "    <tr>\n",
       "      <th>1</th>\n",
       "      <td>1870</td>\n",
       "      <td>3418</td>\n",
       "      <td>5553</td>\n",
       "    </tr>\n",
       "  </tbody>\n",
       "</table>\n",
       "</div>"
      ],
      "text/plain": [
       "         c0    c1    c2\n",
       "hyper                  \n",
       "0      2972  3685  2390\n",
       "1      1870  3418  5553"
      ]
     },
     "execution_count": 11,
     "metadata": {},
     "output_type": "execute_result"
    }
   ],
   "source": [
    "tb= pd.concat([df0_table,df1_table,df2_table],axis=1,ignore_index=True) #Join the two tables\n",
    "tb.columns = [\"c0\",\"c1\",\"c2\"]\n",
    "#observed = tb.ix[0:len(df0_table),0:3]\n",
    "observed = tb.iloc[0:len(df0_table),0:3]\n",
    "observed"
   ]
  },
  {
   "cell_type": "markdown",
   "metadata": {},
   "source": [
    "Calculate row total and column total"
   ]
  },
  {
   "cell_type": "code",
   "execution_count": 12,
   "metadata": {},
   "outputs": [
    {
     "data": {
      "text/html": [
       "<div>\n",
       "<style scoped>\n",
       "    .dataframe tbody tr th:only-of-type {\n",
       "        vertical-align: middle;\n",
       "    }\n",
       "\n",
       "    .dataframe tbody tr th {\n",
       "        vertical-align: top;\n",
       "    }\n",
       "\n",
       "    .dataframe thead th {\n",
       "        text-align: right;\n",
       "    }\n",
       "</style>\n",
       "<table border=\"1\" class=\"dataframe\">\n",
       "  <thead>\n",
       "    <tr style=\"text-align: right;\">\n",
       "      <th></th>\n",
       "      <th>c0</th>\n",
       "      <th>c1</th>\n",
       "      <th>c2</th>\n",
       "      <th>row_totals</th>\n",
       "    </tr>\n",
       "    <tr>\n",
       "      <th>hyper</th>\n",
       "      <th></th>\n",
       "      <th></th>\n",
       "      <th></th>\n",
       "      <th></th>\n",
       "    </tr>\n",
       "  </thead>\n",
       "  <tbody>\n",
       "    <tr>\n",
       "      <th>0</th>\n",
       "      <td>2972</td>\n",
       "      <td>3685</td>\n",
       "      <td>2390</td>\n",
       "      <td>9047</td>\n",
       "    </tr>\n",
       "    <tr>\n",
       "      <th>1</th>\n",
       "      <td>1870</td>\n",
       "      <td>3418</td>\n",
       "      <td>5553</td>\n",
       "      <td>10841</td>\n",
       "    </tr>\n",
       "    <tr>\n",
       "      <th>col_totals</th>\n",
       "      <td>4842</td>\n",
       "      <td>7103</td>\n",
       "      <td>7943</td>\n",
       "      <td>19888</td>\n",
       "    </tr>\n",
       "  </tbody>\n",
       "</table>\n",
       "</div>"
      ],
      "text/plain": [
       "              c0    c1    c2  row_totals\n",
       "hyper                                   \n",
       "0           2972  3685  2390        9047\n",
       "1           1870  3418  5553       10841\n",
       "col_totals  4842  7103  7943       19888"
      ]
     },
     "execution_count": 12,
     "metadata": {},
     "output_type": "execute_result"
    }
   ],
   "source": [
    "col_total_obs=observed.pivot_table(index=observed.index, margins=True, margins_name='col_totals', aggfunc=sum)\n",
    "col_total_obs['row_totals'] = col_total_obs[observed.columns].sum(axis=1)\n",
    "col_total_obs"
   ]
  },
  {
   "cell_type": "markdown",
   "metadata": {},
   "source": [
    "# Expected Values for the three clusters"
   ]
  },
  {
   "cell_type": "code",
   "execution_count": 13,
   "metadata": {
    "scrolled": true
   },
   "outputs": [
    {
     "data": {
      "text/html": [
       "<div>\n",
       "<style scoped>\n",
       "    .dataframe tbody tr th:only-of-type {\n",
       "        vertical-align: middle;\n",
       "    }\n",
       "\n",
       "    .dataframe tbody tr th {\n",
       "        vertical-align: top;\n",
       "    }\n",
       "\n",
       "    .dataframe thead th {\n",
       "        text-align: right;\n",
       "    }\n",
       "</style>\n",
       "<table border=\"1\" class=\"dataframe\">\n",
       "  <thead>\n",
       "    <tr style=\"text-align: right;\">\n",
       "      <th></th>\n",
       "      <th>c0</th>\n",
       "      <th>c1</th>\n",
       "      <th>c2</th>\n",
       "    </tr>\n",
       "    <tr>\n",
       "      <th>hyper</th>\n",
       "      <th></th>\n",
       "      <th></th>\n",
       "      <th></th>\n",
       "    </tr>\n",
       "  </thead>\n",
       "  <tbody>\n",
       "    <tr>\n",
       "      <th>0</th>\n",
       "      <td>2202.613335</td>\n",
       "      <td>3231.136414</td>\n",
       "      <td>3613.250251</td>\n",
       "    </tr>\n",
       "    <tr>\n",
       "      <th>1</th>\n",
       "      <td>2639.386665</td>\n",
       "      <td>3871.863586</td>\n",
       "      <td>4329.749749</td>\n",
       "    </tr>\n",
       "  </tbody>\n",
       "</table>\n",
       "</div>"
      ],
      "text/plain": [
       "                c0           c1           c2\n",
       "hyper                                       \n",
       "0      2202.613335  3231.136414  3613.250251\n",
       "1      2639.386665  3871.863586  4329.749749"
      ]
     },
     "execution_count": 13,
     "metadata": {},
     "output_type": "execute_result"
    }
   ],
   "source": [
    "expected =  np.outer(col_total_obs[\"row_totals\"][0:len(df0_table)],col_total_obs.loc[\"col_totals\"][0:3]) / 19888\n",
    "expected = pd.DataFrame(expected)\n",
    "\n",
    "expected.columns = [\"c0\",\"c1\",\"c2\"]\n",
    "expected.index = observed.index\n",
    "expected"
   ]
  },
  {
   "cell_type": "code",
   "execution_count": 14,
   "metadata": {},
   "outputs": [
    {
     "data": {
      "text/plain": [
       "2"
      ]
     },
     "execution_count": 14,
     "metadata": {},
     "output_type": "execute_result"
    }
   ],
   "source": [
    "row=len(expected)-1 ;row\n",
    "col=expected.shape[1]-1 ;col\n",
    "tot=row*col\n",
    "tot"
   ]
  },
  {
   "cell_type": "markdown",
   "metadata": {},
   "source": [
    "Chi-Square statstic"
   ]
  },
  {
   "cell_type": "code",
   "execution_count": 15,
   "metadata": {},
   "outputs": [
    {
     "name": "stdout",
     "output_type": "stream",
     "text": [
      "1369.7053\n"
     ]
    }
   ],
   "source": [
    "chi_squared_stat = (((observed-expected)**2)/expected).sum().sum()\n",
    "print(chi_squared_stat.round(4))"
   ]
  },
  {
   "cell_type": "code",
   "execution_count": 16,
   "metadata": {},
   "outputs": [
    {
     "name": "stdout",
     "output_type": "stream",
     "text": [
      "Critical value\n",
      "5.9915\n",
      "P value\n",
      "0.0\n"
     ]
    }
   ],
   "source": [
    "crit = stats.chi2.ppf(q = 0.95, # Find the critical value for 95% confidence*\n",
    "                      df =tot)   # *\n",
    "\n",
    "print(\"Critical value\")\n",
    "print(crit.round(4))\n",
    "\n",
    "p_value = 1 - stats.chi2.cdf(x=chi_squared_stat,  # Find the p-value\n",
    "                             df=tot)\n",
    "print(\"P value\")\n",
    "print(p_value.round(4))"
   ]
  },
  {
   "cell_type": "markdown",
   "metadata": {},
   "source": [
    "### Complete code "
   ]
  },
  {
   "cell_type": "code",
   "execution_count": 19,
   "metadata": {},
   "outputs": [
    {
     "name": "stdout",
     "output_type": "stream",
     "text": [
      "                                                                           \\\n",
      "0.0   hyper  2972  61.3796  4842 (0.24)  3685  51.8795  7103 (0.36)  2390   \n",
      "1.0          1870  38.6204               3418  48.1205               5553   \n",
      "0.0  diabet   801  16.5428  4842 (0.24)  1561  21.9766  7103 (0.36)  2412   \n",
      "1.0           151   3.1185                299   4.2095                635   \n",
      "0.0   fatty   347   7.1665  4842 (0.24)   683   9.6157  7103 (0.36)   706   \n",
      "1.0           531  10.9665               1041  14.6558               2091   \n",
      "\n",
      "                                        11      12   13  \n",
      "0.0  30.0894  7943 (0.40)   1369.7053  2.0  5.9915  0.0  \n",
      "1.0  69.9106                                             \n",
      "0.0  30.3664  7943 (0.40)   9973.1047  2.0  5.9915  0.0  \n",
      "1.0   7.9945                                             \n",
      "0.0   8.8883  7943 (0.40)  11023.9732  2.0  5.9915  0.0  \n",
      "1.0  26.3251                                             \n"
     ]
    }
   ],
   "source": [
    "df_report2=pd.DataFrame({})\n",
    "#df_report = pd.DataFrame(df_report, columns = ['in','var',\"samp1_n\", \"samp1_per\", \"samp2_n\", \"samp2_tot\",\"Chi-sq\",\"DF\",\"CV\",\"PV\"])\n",
    "for i in range(0,3):\n",
    "    df0_table = pd.crosstab(index=df00.iloc[:,i], columns=\"\")\n",
    "    df1_table = pd.crosstab(index=df11.iloc[:,i], columns=\"\") \n",
    "    df2_table = pd.crosstab(index=df22.iloc[:,i], columns=\"\") \n",
    "    # join tables\n",
    "    tb = pd.concat([df0_table,df1_table,df2_table],axis=1, ignore_index=True)\n",
    "    tb.columns = [\"c0\",\"c1\",\"c2\"]\n",
    "    # observed\n",
    "    #tb.columns = [\"s\",\"p\"]\n",
    "    observed = tb.iloc[0:len(df0_table),0:3]\n",
    "    #row total and column total\n",
    "    col_total_obs=observed.pivot_table(index=observed.index, margins=True, margins_name='col_totals', aggfunc=sum)\n",
    "    col_total_obs['row_totals'] = col_total_obs[observed.columns].sum(axis=1)\n",
    "    col_total_obs\n",
    "    #calculate expected\n",
    "    expected =  np.outer(col_total_obs[\"row_totals\"][0:len(df0_table)],col_total_obs.loc[\"col_totals\"][0:3])/19888\n",
    "    expected = pd.DataFrame(expected)\n",
    "    expected.columns = [\"c0\",\"c1\",\"c2\"]\n",
    "    #expected.index = observed.index\n",
    "    \n",
    "\n",
    "    # Chi-Square Test\n",
    "    chi_x = (((observed-expected)**2)/expected).sum().sum()\n",
    "    chi_x=pd.DataFrame([chi_x]).round(4)\n",
    "    \n",
    "    #Critical Value \n",
    "    row=len(expected)-1 ;\n",
    "    col=expected.shape[1]-1 ;\n",
    "    tot=row*col\n",
    "    crit = stats.chi2.ppf(q = 0.95,df = tot)\n",
    "    crit=pd.DataFrame([crit]).round(4)\n",
    "    \n",
    "    # P-value \n",
    "    p_value = 1 - stats.chi2.cdf(x=chi_x, df=tot)\n",
    "    p_value=pd.DataFrame(p_value).round(4)\n",
    "    \n",
    "    #Degrees of fredom\n",
    "    dfree=tot\n",
    "    dfree=pd.DataFrame([dfree]).round(4)\n",
    "    \n",
    "    # cluster 0 (count and percentage)\n",
    "    val=df00.iloc[:,i].value_counts()\n",
    "    per=(100. * (df00.iloc[:,i]).value_counts() / len(df00.iloc[:,i])).round(4)\n",
    "    dfn = pd.concat([val, per], keys=['', ''],axis=1, sort=True) \n",
    "    \n",
    "    # cluster 1 (count and percentage)\n",
    "    val=df11.iloc[:,i].value_counts()\n",
    "    per=(100. * (df11.iloc[:,i]).value_counts() / len(df11.iloc[:,i])).round(4)\n",
    "    dfm = pd.concat([val, per], keys=['', ''],axis=1, sort=True)\n",
    "    \n",
    "    # cluster 2 (count and percentage)\n",
    "    val=df22.iloc[:,i].value_counts()\n",
    "    per=(100. * (df22.iloc[:,i]).value_counts() / len(df22.iloc[:,i])).round(4)\n",
    "    dfc = pd.concat([val, per], keys=['', ''],axis=1, sort=True)\n",
    "    \n",
    "    #get variable names (column names)\n",
    "    col=list(df00.columns.values)\n",
    "    var_name=col[i]\n",
    "    var_name=pd.DataFrame([var_name])\n",
    "    #\n",
    "    # Total row /data size for the sample and total sample\n",
    "    samp0 = \"%.0f (%.2f)\" % ((len(df00)),len(df00)/(len(df00)+len(df11)+len(df22)))\n",
    "    samp1 = \"%.0f (%.2f)\" % ((len(df11)),len(df11)/(len(df00)+len(df11)+len(df22)))\n",
    "    samp2 = \"%.0f (%.2f)\" % ((len(df22)),len(df22)/(len(df00)+len(df11)+len(df22)))\n",
    "    samp0=pd.DataFrame([samp0])\n",
    "    samp1=pd.DataFrame([samp1])\n",
    "    samp2=pd.DataFrame([samp2])\n",
    "    # Join Results\n",
    "    dfk = pd.concat([var_name,dfn,samp0,dfm,samp1,dfc,samp2,chi_x,dfree,crit,p_value],axis=1, sort=True,ignore_index=True).T.drop_duplicates().T\n",
    "    #dfk.reset_index()\n",
    "    #dfk[1] = dfk.index #make the variables as index\n",
    "    #dfk.index.rename('foo', inplace=True)\n",
    "    #dfk.reset_index(level=['foo'])\n",
    "    \n",
    "    \n",
    "    #dfk.rename(columns={0:'Num_samp',1:'Num_samp',2:'Num_tot',3:'Per_tot',4:'X^2',5:'DF',6:'CV',7:'PV'}, inplace=True)\n",
    "    dfk.rename(columns={0:'',1:'',2:'',3:'',4:'',5:'',6:'',7:'',8:'',9:'',10:''}, inplace=True)\n",
    "    #df_final=dfk.columns=[\"Num_samp\", \"Num_samp\", \"Num_tot\", \"Per_tot\",\"Chi-sq\",\"DF\",\"CV\",\"PV\"]\n",
    "    #result.append(df_final)\n",
    "    df_final=dfk.fillna('')\n",
    "    df_report2=df_report2.append(df_final)\n",
    "    #print(df_final)\n",
    "print(df_report2)\n",
    "#df_report2.to_csv(\"C:/Progetti/selected_negative_and_positive_samples/report_detail.csv\")\n",
    "#df3=pd.DataFrame(result)\n",
    "#print(result)"
   ]
  },
  {
   "cell_type": "code",
   "execution_count": 20,
   "metadata": {},
   "outputs": [],
   "source": [
    "writer = pd.ExcelWriter('Pvalue_detail_Km_chronic_dataset.xlsx')\n",
    "df_report2.to_excel(writer,'Sheet1')\n",
    "#df2.to_excel(writer,'Sheet2')\n",
    "writer.save()"
   ]
  },
  {
   "cell_type": "code",
   "execution_count": null,
   "metadata": {},
   "outputs": [],
   "source": []
  }
 ],
 "metadata": {
  "kernelspec": {
   "display_name": "Python 3 (ipykernel)",
   "language": "python",
   "name": "python3"
  },
  "language_info": {
   "codemirror_mode": {
    "name": "ipython",
    "version": 3
   },
   "file_extension": ".py",
   "mimetype": "text/x-python",
   "name": "python",
   "nbconvert_exporter": "python",
   "pygments_lexer": "ipython3",
   "version": "3.9.12"
  }
 },
 "nbformat": 4,
 "nbformat_minor": 2
}
